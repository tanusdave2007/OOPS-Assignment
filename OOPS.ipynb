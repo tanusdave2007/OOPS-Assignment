{
  "nbformat": 4,
  "nbformat_minor": 0,
  "metadata": {
    "colab": {
      "provenance": []
    },
    "kernelspec": {
      "name": "python3",
      "display_name": "Python 3"
    },
    "language_info": {
      "name": "python"
    }
  },
  "cells": [
    {
      "cell_type": "markdown",
      "source": [
        "THEORY QUESTIONS AND ANSWERS"
      ],
      "metadata": {
        "id": "kyxlD-ytJDDe"
      }
    },
    {
      "cell_type": "markdown",
      "source": [
        "1. What is Object-Oriented Programming (OOP)?\n",
        "\n",
        "Ans: Object-Oriented Programming (OOP) is a way of designing programs by creating 'objects' that combine data (attributes) and actions (methods), making code organized, reusable and easier to manage.\n"
      ],
      "metadata": {
        "id": "l2pL7wcQJG4W"
      }
    },
    {
      "cell_type": "markdown",
      "source": [
        "2. What is a class in OOP?\n",
        "\n",
        "Ans: In OOP, a class is a blueprint or template for creating objects, defining the data (attributes) and actions (mmethods) that those objects will have.\n"
      ],
      "metadata": {
        "id": "sGht2x81JG0u"
      }
    },
    {
      "cell_type": "markdown",
      "source": [
        "3. What is an object in OOP?\n",
        "\n",
        "Ans: In OOP, an object is an instance of a class that contains its own data and can perform actions defined by the class.\n",
        "\n"
      ],
      "metadata": {
        "id": "GRLdc1SlJGyM"
      }
    },
    {
      "cell_type": "markdown",
      "source": [
        "4. What is the difference between abstraction and encapsulation?\n",
        "\n",
        "Ans: Abstraction : Abstraction is about hiding implementation details and showing only the essential features to the user. It does not show how the website/app actually works, but only the user interface.\n",
        "\n",
        "Example : We use TV remote without knowing how the internal circuits work.\n",
        "\n",
        "Encapsulation : Encapsulattion is about wrapping data and methods together inside a class and restricting direct acess to the data.\n",
        "\n",
        "Example : The TV's internal components are enclosed inside the TV body, preventing direct tampering."
      ],
      "metadata": {
        "id": "PtlS3v5lJkAy"
      }
    },
    {
      "cell_type": "markdown",
      "source": [
        "5. What are the dunder methods in Python?\n",
        "\n",
        "Ans: Dunder Methods (short of double underscore methods) in Python are special built-in methods that start and end with double underscore (method).\n",
        "\n",
        "They let us define how objects of our class behave in certain situations (e.g, printing, addition, comparisons etc.)"
      ],
      "metadata": {
        "id": "R6-KFYIsJj85"
      }
    },
    {
      "cell_type": "markdown",
      "source": [
        "6. Explain the concept of inheritance in OOP.\n",
        "\n",
        "Ans: Inheritance in OOP is a feature that allows one class (child or subclass) to use the properties and methods of another class (parent or superclass).\n",
        "It helps to reuse code and create a hierarchy between classes.\n",
        "\n",
        "The child class can use, extend or override the parent class's behavior."
      ],
      "metadata": {
        "id": "1TxcRloOKEQf"
      }
    },
    {
      "cell_type": "markdown",
      "source": [
        "7. What is polymorphism in OOP?\n",
        "\n",
        "Ans: Polymorphism (Poly- many; Morphism- change) in OOP means the ability of different classes to respond to the same method name in different ways.\n",
        "\n",
        "It allows the same function or method call to behave differently depending on the object it is acting on."
      ],
      "metadata": {
        "id": "tf9dKSoQKENX"
      }
    },
    {
      "cell_type": "markdown",
      "source": [
        "8. How is encapsulation achieved in Python?\n",
        "\n",
        "Ans: In Python encapsulation is achieved by restricting direct access to an object's data and controling it through methods.\n",
        "\n",
        "This is done using access modifiers:\n",
        "\n",
        "Public → No underscore (accessible everywhere)\n",
        "\n",
        "protected → Single underscore '_var' (can not be accessed directly outside the class.)\n",
        "\n",
        "Private → Double underscore '__var' (to prevent direct access)."
      ],
      "metadata": {
        "id": "XCasoW8aKEK4"
      }
    },
    {
      "cell_type": "markdown",
      "source": [
        "9. What is a constructor in Python?\n",
        "\n",
        "Ans: In Python, a constructor is a special method named __ init__ that is automatically called when a new object of a class is created.\n",
        "\n",
        "It’s used to initialize the object’s attributes."
      ],
      "metadata": {
        "id": "_Rdus-PUKqWM"
      }
    },
    {
      "cell_type": "code",
      "source": [
        "#Example:\n",
        "\n",
        "class Person:\n",
        "    def __init__(self, name, age):  # Constructor\n",
        "        self.name = name\n",
        "        self.age = age\n",
        "\n",
        "p = Person('Tanushree', 18)  #__init__ called here\n",
        "print(p.name, p.age)"
      ],
      "metadata": {
        "colab": {
          "base_uri": "https://localhost:8080/"
        },
        "id": "dK_nKkITK3Wz",
        "outputId": "732b9223-5b29-49bb-eb92-2815aa1691fb"
      },
      "execution_count": 1,
      "outputs": [
        {
          "output_type": "stream",
          "name": "stdout",
          "text": [
            "Tanushree 18\n"
          ]
        }
      ]
    },
    {
      "cell_type": "markdown",
      "source": [
        "10. What are class and static methods in Python?\n",
        "\n",
        "Ans:\n",
        "\n",
        "Class Methods (@classmethod):\n",
        "\n",
        "Belong to the class rather than the instance.\n",
        "\n",
        "Receive the class (cls) as the first argument.\n",
        "\n",
        "Can modify class-level data shared across all instances.\n",
        "\n",
        "Static Methods (@staticmethod):\n",
        "\n",
        "Belong to the class, but don't receive 'self' or 'cls' automatically.\n",
        "\n",
        "Used for utility functions that don't need access to instance or class data."
      ],
      "metadata": {
        "id": "APsJIOJYKqQn"
      }
    },
    {
      "cell_type": "markdown",
      "source": [
        "11. What is method overloading in Python?\n",
        "\n",
        "Ans: Method Overloading in Pythoon is the abiliy to define a method in a class in such a way that it can accept diferent numbers or types of arguments."
      ],
      "metadata": {
        "id": "YYtyvf-8LP17"
      }
    },
    {
      "cell_type": "code",
      "execution_count": 2,
      "metadata": {
        "colab": {
          "base_uri": "https://localhost:8080/"
        },
        "id": "bVOB9dMDIxWk",
        "outputId": "060addeb-d700-481c-b4f6-588e4081b313"
      },
      "outputs": [
        {
          "output_type": "stream",
          "name": "stdout",
          "text": [
            "Hello\n",
            "Hello Tanushree Dave\n"
          ]
        }
      ],
      "source": [
        "#Example:\n",
        "\n",
        "class Greet:\n",
        "    def hello(self, name=None):\n",
        "        if name:\n",
        "            print(\"Hello\", name)\n",
        "        else:\n",
        "            print(\"Hello\")\n",
        "\n",
        "g = Greet()\n",
        "g.hello()\n",
        "g.hello(\"Tanushree Dave\")"
      ]
    },
    {
      "cell_type": "markdown",
      "source": [
        "12. What is method overriding in OOP?\n",
        "\n",
        "Ans: Method Overriding is OOP is when a subclass provides a specific implementation of a method that is already defined in its parent class.\n",
        "\n",
        "The overridden method in the child has the same name, parameters and return type as in the parent class but performs a different task."
      ],
      "metadata": {
        "id": "aQEjK7bNLgS_"
      }
    },
    {
      "cell_type": "markdown",
      "source": [
        "13. What is a property decorator in Python?\n",
        "\n",
        "Ans: The '@property decorator' in Python is used to covert a class method into a read-only attribute. It alows you to define getters (and optionally setters and deleters) to access and modify rivate attributes in a controlled way, supporting encapsulation, data hiding and making the class interface cleaner and more aesthetic."
      ],
      "metadata": {
        "id": "7NrCH06CLn-a"
      }
    },
    {
      "cell_type": "markdown",
      "source": [
        "14. Why is Polymorphism important in OOP?\n",
        "\n",
        "Ans: Polymorphism in OOP allows the same method name to behave differently based on the object calling it, enabling flexibility, reusability, and easier maintenance of the code."
      ],
      "metadata": {
        "id": "rV97-qfHLn7z"
      }
    },
    {
      "cell_type": "markdown",
      "source": [
        "15. What is an abstract class in Python?\n",
        "\n",
        "Ans: An abstract class in Python is a class that cannot be instantiated and is meant to be inherited by other classes. It can define abstract methods using the @abstractmethod decorator from the abc module, which must be implemented by its subclasses, enforcing a common interface and promoting consistent design."
      ],
      "metadata": {
        "id": "ZImGX8GRL64e"
      }
    },
    {
      "cell_type": "markdown",
      "source": [
        "16. What are the advantages of OOP?\n",
        "\n",
        "Ans: The advantages of OOP include better code organization through classes and objects, reusability via inheritance, flexibility through polymorphism, data protection using encapsulation, and improved maintainability and scalability by modeling real-world entities in a modular and structured way."
      ],
      "metadata": {
        "id": "Tj1OPHBuMCg1"
      }
    },
    {
      "cell_type": "markdown",
      "source": [
        "17. What is the difference between a class variable and an instance variable?\n",
        "\n",
        "Ans: A class variable is shared by all instances of a class and is defined outside of any instance methods, while an instance variable is unique to each object and is defined inside methods using self. Class variables maintain a common value across all objects, whereas instance variables store data specific to each object."
      ],
      "metadata": {
        "id": "4k0NTA1_MCdr"
      }
    },
    {
      "cell_type": "markdown",
      "source": [
        "18. What is multiple inheritance in Python?\n",
        "\n",
        "Ans: Multiple inheritance is the concept in which there are multiple parent classes for one child class, allowing it to access attributes and methods from all its base classes. It enables code reuse across multiple classes."
      ],
      "metadata": {
        "id": "PS5lh2MjMCa_"
      }
    },
    {
      "cell_type": "markdown",
      "source": [
        "19. Explain the purpose of ‘’str’ and ‘repr’ ‘ methods in Python.\n",
        "\n",
        "Ans: The __str__ method in Python defines the human-readable string representation of an object, used by functions like print(), while __repr__ returns an unambiguous, developer-focused string that ideally can recreate the object and is used by default in the interpreter. Both help in customizing how objects are displayed for readability and debugging."
      ],
      "metadata": {
        "id": "7ibSKvFHMleS"
      }
    },
    {
      "cell_type": "markdown",
      "source": [
        "20. What is the significance of the ‘super()’ function in Python ?\n",
        "\n",
        "Ans: The super() function in Python is used to call methods from a parent class within a child class, allowing access to inherited methods without explicitly naming the parent. It is especially useful in multiple inheritance to ensure the correct method resolution order (MRO) and helps maintain cleaner, more maintainable code when extending functionality.\n",
        "\n"
      ],
      "metadata": {
        "id": "3pkRUywTMlbM"
      }
    },
    {
      "cell_type": "markdown",
      "source": [
        "21. What is the significance of the del method in Python?\n",
        "\n",
        "Ans: The __del__ method in Python is a special method called when an object is about to be destroyed, typically used to perform cleanup tasks like closing files or releasing resources. It acts as a destructor.\n",
        "\n"
      ],
      "metadata": {
        "id": "SB9rSXGxMlYR"
      }
    },
    {
      "cell_type": "markdown",
      "source": [
        "22. What is the difference between @staticmethod and @classmethod in Python ?\n",
        "\n",
        "Ans: In Python, @staticmethod defines a method that belongs to the class but doesn't access or modify class or instance data, making it act like a regular function placed inside a class. In contrast, @classmethod takes the class (cls) as its first argument and can access or modify class-level data, making it useful for alternative constructors or class-wide changes."
      ],
      "metadata": {
        "id": "77i7NSw2M0Za"
      }
    },
    {
      "cell_type": "markdown",
      "source": [
        "23. How does polymorphism work in Python with inheritance ?\n",
        "\n",
        "Ans: In Python, polymorphism with inheritance allows subclasses to override methods of a parent class, enabling different behaviors for the same method name depending on the object's class. This means a single interface can work with objects of different types, supporting dynamic method resolution and flexible, reusable code.\n"
      ],
      "metadata": {
        "id": "mMRnyrcXM0V6"
      }
    },
    {
      "cell_type": "markdown",
      "source": [
        "24. What is method chaining in Python OOP ?\n",
        "\n",
        "Ans: ..."
      ],
      "metadata": {
        "id": "Q2ZvxhE2M0SQ"
      }
    },
    {
      "cell_type": "markdown",
      "source": [
        "25. What is the purpose of the call method in Python ?\n",
        "\n",
        "Ans: The __call__ method in Python allows an object to be called like a function. When defined in a class, it lets you use the object’s instance followed by parentheses (e.g., obj()) to execute custom behavior, making objects behave like callable functions."
      ],
      "metadata": {
        "id": "skchqz-1M0PT"
      }
    },
    {
      "cell_type": "markdown",
      "source": [
        "PRACTICAL QUESTIONS AND ANSWERS"
      ],
      "metadata": {
        "id": "5Vu9q5LeNJaz"
      }
    },
    {
      "cell_type": "markdown",
      "source": [
        "1.  Create a parent class Animal with a method speak() that prints a generic message. Create a child class Dog\n",
        "that overrides the speak() method to print \"Bark!\"."
      ],
      "metadata": {
        "id": "qdNbY2IANN9b"
      }
    },
    {
      "cell_type": "code",
      "source": [
        "class Animal:\n",
        "    def speak(self):\n",
        "        print(\"Animal makes a sound.\")\n",
        "\n",
        "class Dog(Animal):\n",
        "    def speak(self):\n",
        "        print(\"Bark!\")\n",
        "\n",
        "a = Animal()\n",
        "a.speak()\n",
        "\n",
        "d = Dog()\n",
        "d.speak()"
      ],
      "metadata": {
        "colab": {
          "base_uri": "https://localhost:8080/"
        },
        "id": "j1Hea22DLdQl",
        "outputId": "b00d5b72-c429-4c0a-899b-0d35459c0e78"
      },
      "execution_count": 3,
      "outputs": [
        {
          "output_type": "stream",
          "name": "stdout",
          "text": [
            "Animal makes a sound.\n",
            "Bark!\n"
          ]
        }
      ]
    },
    {
      "cell_type": "markdown",
      "source": [
        "2. Write a program to create an abstract class Shape with a method area(). Derive classes Circle and Rectangle\n",
        "from it and implement the area() method in both."
      ],
      "metadata": {
        "id": "1K4gHoRhNctb"
      }
    },
    {
      "cell_type": "code",
      "source": [
        "from abc import ABC, abstractmethod\n",
        "import math\n",
        "\n",
        "class Shape(ABC):\n",
        "  @abstractmethod\n",
        "  def area(self):\n",
        "    pass\n",
        "\n",
        "class Circle(Shape):\n",
        "    def __init__(self, radius):\n",
        "        self.radius = radius\n",
        "\n",
        "    def area(self):\n",
        "        return math.pi*self.radius**2\n",
        "\n",
        "class Rectangle(Shape):\n",
        "    def __init__(self, width, height):\n",
        "        self.width = width\n",
        "        self.height = height\n",
        "\n",
        "    def area(self):\n",
        "        return self.width*self.height\n",
        "\n",
        "c = Circle(7)\n",
        "r = Rectangle(7,14)\n",
        "\n",
        "print(\"Circle's area: \", c.area())\n",
        "print(\"Rectangle's area: \", r.area())"
      ],
      "metadata": {
        "colab": {
          "base_uri": "https://localhost:8080/"
        },
        "id": "tid0Mm6fNZ7G",
        "outputId": "23c697e2-1ccc-4dbe-9db5-d3c47d9b2de3"
      },
      "execution_count": 7,
      "outputs": [
        {
          "output_type": "stream",
          "name": "stdout",
          "text": [
            "Circle's area:  153.93804002589985\n",
            "Rectangle's area:  98\n"
          ]
        }
      ]
    },
    {
      "cell_type": "markdown",
      "source": [
        "3.Implement a multi-level inheritance scenario where a class Vehicle has an attribute type. Derive a class Car\n",
        "and further derive a class ElectricCar that adds a battery attribute."
      ],
      "metadata": {
        "id": "df598T34OABt"
      }
    },
    {
      "cell_type": "code",
      "source": [
        "class Vehicle:\n",
        "    def __init__(self, type):\n",
        "        self.type = type\n",
        "\n",
        "class Car(Vehicle):\n",
        "    def __init__(self, type, brand):\n",
        "        super().__init__(type)\n",
        "        self.brand = brand\n",
        "\n",
        "class ElectricCar(Car):\n",
        "    def __init__(self, type, brand, battery):\n",
        "        super().__init__(type, brand)\n",
        "        self.battery = battery\n",
        "\n",
        "ecar = ElectricCar('4 wheeler', 'THAR', '140KWh')\n",
        "print(ecar.type, ecar.brand, ecar.battery)"
      ],
      "metadata": {
        "colab": {
          "base_uri": "https://localhost:8080/"
        },
        "id": "KnWXSWPAN5yR",
        "outputId": "d64ee31b-1525-4f30-8cef-3637a2c3ed47"
      },
      "execution_count": 8,
      "outputs": [
        {
          "output_type": "stream",
          "name": "stdout",
          "text": [
            "4 wheeler THAR 140KWh\n"
          ]
        }
      ]
    },
    {
      "cell_type": "markdown",
      "source": [
        "4.Demonstrate polymorphism by creating a base class Bird with a method fly(). Create two derived classes Sparrow and Penguin that override the fly() method."
      ],
      "metadata": {
        "id": "KtRAqayBOUrP"
      }
    },
    {
      "cell_type": "code",
      "source": [
        "class Bird:\n",
        "    def fly(self):\n",
        "        print(\"This bird can fly.\")\n",
        "\n",
        "class Sparrow(Bird):\n",
        "    def fly(self):\n",
        "        print(\"Sparrow is a common bird.\")\n",
        "\n",
        "class Penguins(Bird):\n",
        "    def fly(self):\n",
        "        print(\"Penguins can not fly.\")\n",
        "\n",
        "birds = [Sparrow(), Penguins()]\n",
        "for bird in birds:\n",
        "    bird.fly()"
      ],
      "metadata": {
        "colab": {
          "base_uri": "https://localhost:8080/"
        },
        "id": "okNxsYx_OROE",
        "outputId": "2613b87a-060e-4179-be69-606a30b8a0fa"
      },
      "execution_count": 11,
      "outputs": [
        {
          "output_type": "stream",
          "name": "stdout",
          "text": [
            "Sparrow is a common bird.\n",
            "Penguins can not fly.\n"
          ]
        }
      ]
    },
    {
      "cell_type": "markdown",
      "source": [
        "5. Write a program to demonstrate encapsulation by creating a class BankAccount with private attributes balance and methods to deposit, withdraw, and check balance.\n",
        "\n",
        "Ans: -\n"
      ],
      "metadata": {
        "id": "8dimVkU7OlvI"
      }
    },
    {
      "cell_type": "markdown",
      "source": [
        "6.  Demonstrate runtime polymorphism using a method play() in a base class Instrument. Derive classes Guitar and Piano that implement their own version of play()."
      ],
      "metadata": {
        "id": "7EEQc0C8PCSJ"
      }
    },
    {
      "cell_type": "code",
      "source": [
        "class Instrument:\n",
        "    def play(self):\n",
        "        print(\"Playing an Instrument.\")\n",
        "\n",
        "class Guitar(Instrument):\n",
        "    def play(self):\n",
        "        print(\"Playing the Guitar.\")\n",
        "\n",
        "class Piano(Instrument):\n",
        "    def play(self):\n",
        "        print(\"Playing the Piano.\")\n",
        "\n",
        "instruments = [Guitar(), Piano()]\n",
        "for instrument in instruments:\n",
        "    instrument.play()"
      ],
      "metadata": {
        "colab": {
          "base_uri": "https://localhost:8080/"
        },
        "id": "PHC7qSh2Od8E",
        "outputId": "7435a77e-13af-47dd-9acf-3983d669305e"
      },
      "execution_count": 16,
      "outputs": [
        {
          "output_type": "stream",
          "name": "stdout",
          "text": [
            "Playing the Guitar.\n",
            "Playing the Piano.\n"
          ]
        }
      ]
    },
    {
      "cell_type": "markdown",
      "source": [
        "7. Create a class MathOperations with a class method add_numbers() to add two numbers and a static method subtract_numbers() to subtract two numbers."
      ],
      "metadata": {
        "id": "3G1a6QkHPRMP"
      }
    },
    {
      "cell_type": "code",
      "source": [
        "class MathOperations:\n",
        "    @classmethod\n",
        "    def add_numbers(cls, a, b):\n",
        "        return a+b\n",
        "\n",
        "    @staticmethod  #does not need cls or self\n",
        "    def subtract_numbers(a, b):\n",
        "        return a - b\n",
        "\n",
        "math = MathOperations()\n",
        "print('Adding the numbers :', math.add_numbers(7,14))\n",
        "print('Subtracting the numbers :', math.subtract_numbers(14,7))"
      ],
      "metadata": {
        "colab": {
          "base_uri": "https://localhost:8080/"
        },
        "id": "COOAVFD7O0KR",
        "outputId": "97c0fc3c-1bc4-4134-d977-e03b5dd889e0"
      },
      "execution_count": 21,
      "outputs": [
        {
          "output_type": "stream",
          "name": "stdout",
          "text": [
            "Adding the numbers : 21\n",
            "Subtracting the numbers : 7\n"
          ]
        }
      ]
    },
    {
      "cell_type": "markdown",
      "source": [
        "8. Implement a class Person with a class method to count the total number of persons created."
      ],
      "metadata": {
        "id": "aHphajFFPqQH"
      }
    },
    {
      "cell_type": "code",
      "source": [
        "class Person:\n",
        "    count = 0\n",
        "\n",
        "    def __init__(self, name):\n",
        "        self.name = name\n",
        "        Person.count += 1\n",
        "\n",
        "    @classmethod\n",
        "    def total_persons(cls):\n",
        "        return cls.count\n",
        "\n",
        "p1 = Person('Tanu')\n",
        "p2 = Person('Manu')\n",
        "p3 = Person('Kanu')\n",
        "p4 = Person('Ranu')\n",
        "p5 = Person('Panu')\n",
        "p6 = Person('Lanu')\n",
        "p7 = Person('Sanu')\n",
        "\n",
        "print(\"Total persons created :\", Person.total_persons())"
      ],
      "metadata": {
        "colab": {
          "base_uri": "https://localhost:8080/"
        },
        "id": "pJmmuKDdPiDC",
        "outputId": "24c25438-9647-49c4-9f31-cc5af9872de3"
      },
      "execution_count": 26,
      "outputs": [
        {
          "output_type": "stream",
          "name": "stdout",
          "text": [
            "Total persons created : 7\n"
          ]
        }
      ]
    },
    {
      "cell_type": "markdown",
      "source": [
        "9. Write a class Fraction with attributes numerator and denominator. Override the str method to display the fraction as \"numerator/denominator\"."
      ],
      "metadata": {
        "id": "uDlPysXeQIcj"
      }
    },
    {
      "cell_type": "code",
      "source": [
        "class Fraction:\n",
        "    def __init__(self, numerator, denominator):\n",
        "        self.numerator = numerator\n",
        "        self.denominator = denominator\n",
        "\n",
        "    def __str__(self):\n",
        "        return f'{self.numerator}/{self.denominator}'\n",
        "\n",
        "f = Fraction(14,7)\n",
        "print(f)"
      ],
      "metadata": {
        "colab": {
          "base_uri": "https://localhost:8080/"
        },
        "id": "kmaUxXPmPz5-",
        "outputId": "28ed1cce-8ca4-4634-89b5-8412c6bf7242"
      },
      "execution_count": 27,
      "outputs": [
        {
          "output_type": "stream",
          "name": "stdout",
          "text": [
            "14/7\n"
          ]
        }
      ]
    },
    {
      "cell_type": "markdown",
      "source": [
        "10. Demonstrate operator overloading by creating a class Vector and overriding the add method to add two vectors."
      ],
      "metadata": {
        "id": "9c94gANvQOBB"
      }
    },
    {
      "cell_type": "code",
      "source": [
        "class Vector:\n",
        "    def __init__(self, x, y):\n",
        "        self.x = x\n",
        "        self.y = y\n",
        "\n",
        "    def __add__(self, other):\n",
        "        return Vector(self.x + other.x, self.y + other.y)\n",
        "\n",
        "    def __str__(self):\n",
        "        return f\"({self.x}, {self.y})\"\n",
        "\n",
        "v1 = Vector(7,14)\n",
        "v2 = Vector(7,14)\n",
        "v3 = v1 + v2\n",
        "print(v3)"
      ],
      "metadata": {
        "colab": {
          "base_uri": "https://localhost:8080/"
        },
        "id": "tBgTNC2LQNWJ",
        "outputId": "92f0cc2d-5ab6-4c07-fe8b-1eb66d381ae1"
      },
      "execution_count": 29,
      "outputs": [
        {
          "output_type": "stream",
          "name": "stdout",
          "text": [
            "(14, 28)\n"
          ]
        }
      ]
    },
    {
      "cell_type": "markdown",
      "source": [
        "11.  Create a class Person with attributes name and age. Add a method greet() that prints \"Hello, my name is {name} and I am {age} years old.\""
      ],
      "metadata": {
        "id": "SKCm9Y4ZQYMT"
      }
    },
    {
      "cell_type": "code",
      "source": [
        "class Person:\n",
        "    def __init__(self, name, age):\n",
        "        self.name = name\n",
        "        self.age = age\n",
        "\n",
        "    def greet(self):\n",
        "        print('Hello my name is', self.name, 'and I am', self.age, 'years old.')\n",
        "\n",
        "p = Person('Tanushree', 18)\n",
        "p.greet()"
      ],
      "metadata": {
        "colab": {
          "base_uri": "https://localhost:8080/"
        },
        "id": "Qu4QwjuoQUbJ",
        "outputId": "35b6e4f0-b5d1-47c2-cef7-10bbd2201fbe"
      },
      "execution_count": 30,
      "outputs": [
        {
          "output_type": "stream",
          "name": "stdout",
          "text": [
            "Hello my name is Tanushree and I am 18 years old.\n"
          ]
        }
      ]
    },
    {
      "cell_type": "markdown",
      "source": [
        "12. Implement a class Student with attributes name and grades. Create a method average_grade() to compute the average of the grades."
      ],
      "metadata": {
        "id": "sMJJx2yPQhdv"
      }
    },
    {
      "cell_type": "code",
      "source": [
        "class Student:\n",
        "    def __init__(self, name, grades):\n",
        "        self.name = name\n",
        "        self.grades = grades\n",
        "\n",
        "    def average_grade(self):\n",
        "        return sum(self.grades)/len(self.grades)\n",
        "\n",
        "s = Student('Tanushree Dave', [77, 85, 93])\n",
        "print('Average grade :', s.average_grade())"
      ],
      "metadata": {
        "colab": {
          "base_uri": "https://localhost:8080/"
        },
        "id": "ffXVn57YQgpJ",
        "outputId": "44ede819-2a78-45fd-a149-06e811a8d2a5"
      },
      "execution_count": 34,
      "outputs": [
        {
          "output_type": "stream",
          "name": "stdout",
          "text": [
            "Average grade : 85.0\n"
          ]
        }
      ]
    },
    {
      "cell_type": "markdown",
      "source": [
        "13. Create a class Rectangle with methods set_dimensions() to set the dimensions and area() to calculate the area."
      ],
      "metadata": {
        "id": "gPMoSkAcQzHH"
      }
    },
    {
      "cell_type": "code",
      "source": [
        "class Rectangle:\n",
        "    def set_dimensions(self, width, height):\n",
        "        self.width = width\n",
        "        self.height = height\n",
        "\n",
        "    def area(self):\n",
        "        return self.width * self.height\n",
        "\n",
        "# Example usage\n",
        "r = Rectangle()\n",
        "r.set_dimensions(7, 14)\n",
        "print(\"Area:\", r.area())"
      ],
      "metadata": {
        "colab": {
          "base_uri": "https://localhost:8080/"
        },
        "id": "8nzk3nblQqqc",
        "outputId": "63bd357c-e614-489d-a149-c458c26a67f8"
      },
      "execution_count": 35,
      "outputs": [
        {
          "output_type": "stream",
          "name": "stdout",
          "text": [
            "Area: 98\n"
          ]
        }
      ]
    },
    {
      "cell_type": "markdown",
      "source": [
        "14. Create a class Employee with a method calculate_salary() that computes the salary based on hours worked and hourly rate. Create a derived class Manager that adds a bonus to the salary.\n",
        "\n",
        "Ans: -"
      ],
      "metadata": {
        "id": "t7G7gSXOQ6Qa"
      }
    },
    {
      "cell_type": "markdown",
      "source": [
        "15. Create a class Product with attributes name, price, and quantity. Implement a method total_price() that calculates the total price of the product"
      ],
      "metadata": {
        "id": "dHClURV_RBe5"
      }
    },
    {
      "cell_type": "code",
      "source": [
        "class Product:\n",
        "    def __init__(self, name, price, quantity):\n",
        "        self.name = name\n",
        "        self.price = price\n",
        "        self.quantity = quantity\n",
        "\n",
        "    def total_price(self):\n",
        "        return self.price * self.quantity\n",
        "\n",
        "# Example usage\n",
        "p = Product(\"Laptops\", 43000, 3)\n",
        "print(\"Total Price:\", p.total_price())"
      ],
      "metadata": {
        "colab": {
          "base_uri": "https://localhost:8080/"
        },
        "id": "PTi6ardSQ40I",
        "outputId": "feebee99-ad12-4bf5-c299-79cf9716698e"
      },
      "execution_count": 36,
      "outputs": [
        {
          "output_type": "stream",
          "name": "stdout",
          "text": [
            "Total Price: 129000\n"
          ]
        }
      ]
    },
    {
      "cell_type": "markdown",
      "source": [
        "16. Create a class Animal with an abstract method sound(). Create two derived classes Cow and Sheep that implement the sound() method."
      ],
      "metadata": {
        "id": "S2AM4zvvRT11"
      }
    },
    {
      "cell_type": "code",
      "source": [
        "class Animal:\n",
        "    def sound(self):\n",
        "        raise NotImplementedError('Subclass MUST implement this method')\n",
        "\n",
        "class Cow(Animal):\n",
        "    def sound(self):\n",
        "        print('A cow Moos')\n",
        "\n",
        "class Sheep(Animal):\n",
        "    def sound(self):\n",
        "        print(\"A sheep Baas\")\n",
        "\n",
        "animals = [Cow(), Sheep()]\n",
        "for animal in animals:\n",
        "    animal.sound()"
      ],
      "metadata": {
        "colab": {
          "base_uri": "https://localhost:8080/"
        },
        "id": "pckAgfSnRQro",
        "outputId": "06a1f472-15dc-464e-f243-bc378226c1d7"
      },
      "execution_count": 37,
      "outputs": [
        {
          "output_type": "stream",
          "name": "stdout",
          "text": [
            "A cow Moos\n",
            "A sheep Baas\n"
          ]
        }
      ]
    },
    {
      "cell_type": "markdown",
      "source": [
        "17. Create a class Book with attributes title, author, and year_published. Add a method get_book_info() that returns a formatted string with the book's details."
      ],
      "metadata": {
        "id": "uEgHbTCqReXg"
      }
    },
    {
      "cell_type": "code",
      "source": [
        "class Book:\n",
        "    def __init__(self, title, author, year_published):\n",
        "        self.title = title\n",
        "        self.author = author\n",
        "        self.year_published = year_published\n",
        "\n",
        "    def get_book_info(self):\n",
        "        return f\"'{self.title}' by {self.author}, published in {self.year_published}\"\n",
        "\n",
        "\n",
        "b = Book(\"Five Survive\", \"Holly Jackson\", 2024)\n",
        "print(b.get_book_info())"
      ],
      "metadata": {
        "colab": {
          "base_uri": "https://localhost:8080/"
        },
        "id": "Q_f6GMfGRdMT",
        "outputId": "b0982f27-01bd-4717-b274-9c3e78c709a8"
      },
      "execution_count": 38,
      "outputs": [
        {
          "output_type": "stream",
          "name": "stdout",
          "text": [
            "'Five Survive' by Holly Jackson, published in 2024\n"
          ]
        }
      ]
    },
    {
      "cell_type": "markdown",
      "source": [
        "18. Create a class House with attributes address and price. Create a derived class Mansion that adds an attribute number_of_rooms."
      ],
      "metadata": {
        "id": "cNeVvNr8RsyG"
      }
    },
    {
      "cell_type": "code",
      "source": [
        "class House:\n",
        "    def __init__(self, address, price):\n",
        "        self.address = address\n",
        "        self.price = price\n",
        "\n",
        "class Mansion(House):\n",
        "    def __init__(self, address, price, number_of_rooms):\n",
        "        super().__init__(address, price)\n",
        "        self.number_of_rooms = number_of_rooms\n",
        "\n",
        "\n",
        "m = Mansion(\"221 B Baker Street, London \", 7000000, 14)\n",
        "print(m.address, m.price, m.number_of_rooms)"
      ],
      "metadata": {
        "colab": {
          "base_uri": "https://localhost:8080/"
        },
        "id": "SZejVRRZRrDq",
        "outputId": "90e266e3-c051-4eb3-f45d-b218a1708e74"
      },
      "execution_count": 39,
      "outputs": [
        {
          "output_type": "stream",
          "name": "stdout",
          "text": [
            "221 B Baker Street, London  7000000 14\n"
          ]
        }
      ]
    },
    {
      "cell_type": "code",
      "source": [],
      "metadata": {
        "id": "RPiz7D_bR6Cj"
      },
      "execution_count": null,
      "outputs": []
    }
  ]
}